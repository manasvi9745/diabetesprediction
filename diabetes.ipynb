{
 "cells": [
  {
   "cell_type": "code",
   "execution_count": 1,
   "id": "097ddf49-3462-45a1-8dc1-9e1bc83fa1ac",
   "metadata": {},
   "outputs": [
    {
     "name": "stdout",
     "output_type": "stream",
     "text": [
      "   Pregnancies  Glucose  BloodPressure  SkinThickness  Insulin   BMI  \\\n",
      "0            6      148             72             35        0  33.6   \n",
      "1            1       85             66             29        0  26.6   \n",
      "2            8      183             64              0        0  23.3   \n",
      "3            1       89             66             23       94  28.1   \n",
      "4            0      137             40             35      168  43.1   \n",
      "\n",
      "   DiabetesPedigreeFunction  Age  Outcome  \n",
      "0                     0.627   50        1  \n",
      "1                     0.351   31        0  \n",
      "2                     0.672   32        1  \n",
      "3                     0.167   21        0  \n",
      "4                     2.288   33        1  \n"
     ]
    }
   ],
   "source": [
    "import pandas as pd\n",
    "\n",
    "# Agar file notebook ke folder me hai to sirf naam likho\n",
    "df = pd.read_csv('diabetes.csv')\n",
    "\n",
    "# Data dekhne ke liye\n",
    "print(df.head())\n"
   ]
  },
  {
   "cell_type": "code",
   "execution_count": 3,
   "id": "28608144-3321-443e-af84-e82375e2c9ef",
   "metadata": {},
   "outputs": [
    {
     "name": "stdout",
     "output_type": "stream",
     "text": [
      "Hybrid NaiveBayes-KNN Accuracy: 0.82\n"
     ]
    }
   ],
   "source": [
    "from sklearn.naive_bayes import GaussianNB\n",
    "from sklearn.neighbors import KNeighborsClassifier\n",
    "from sklearn.datasets import make_classification\n",
    "from sklearn.model_selection import train_test_split\n",
    "from sklearn.metrics import accuracy_score\n",
    "\n",
    "# Generate data\n",
    "X, y = make_classification(n_samples=1000, n_features=20, n_classes=2, random_state=42)\n",
    "X_train, X_test, y_train, y_test = train_test_split(X, y, test_size=0.3, random_state=42)\n",
    "\n",
    "# Train Naive Bayes\n",
    "nb = GaussianNB()\n",
    "nb.fit(X_train, y_train)\n",
    "\n",
    "# Get probabilities\n",
    "nb_probs = nb.predict_proba(X_test)\n",
    "\n",
    "# Threshold for ambiguity\n",
    "threshold = 0.4\n",
    "ambiguous_indices = (nb_probs[:, 1] > threshold) & (nb_probs[:, 1] < 1 - threshold)\n",
    "\n",
    "# Train KNN\n",
    "knn = KNeighborsClassifier(n_neighbors=5)\n",
    "knn.fit(X_train, y_train)\n",
    "\n",
    "# Default predictions\n",
    "final_predictions = nb.predict(X_test)\n",
    "\n",
    "# Replace ambiguous with KNN predictions\n",
    "if ambiguous_indices.any():\n",
    "    knn_preds = knn.predict(X_test[ambiguous_indices])\n",
    "    final_predictions[ambiguous_indices] = knn_preds\n",
    "\n",
    "# Evaluate\n",
    "accuracy = accuracy_score(y_test, final_predictions)\n",
    "print(f\"Hybrid NaiveBayes-KNN Accuracy: {accuracy:.2f}\")\n"
   ]
  },
  {
   "cell_type": "code",
   "execution_count": 5,
   "id": "04d353ec-b7af-4a07-b2f6-ebce45280b9b",
   "metadata": {},
   "outputs": [
    {
     "name": "stdout",
     "output_type": "stream",
     "text": [
      "Hybrid Tree-KNN Accuracy: 0.87\n"
     ]
    }
   ],
   "source": [
    "from sklearn.tree import DecisionTreeClassifier\n",
    "from sklearn.neighbors import KNeighborsClassifier\n",
    "from sklearn.datasets import make_classification\n",
    "from sklearn.model_selection import train_test_split\n",
    "from sklearn.metrics import accuracy_score\n",
    "\n",
    "# Generate data\n",
    "X, y = make_classification(n_samples=1000, n_features=20, n_classes=2, random_state=42)\n",
    "X_train, X_test, y_train, y_test = train_test_split(X, y, test_size=0.3, random_state=42)\n",
    "\n",
    "# Train Decision Tree\n",
    "tree = DecisionTreeClassifier(max_depth=5, random_state=42)\n",
    "tree.fit(X_train, y_train)\n",
    "\n",
    "# Get probabilities\n",
    "tree_probs = tree.predict_proba(X_test)\n",
    "\n",
    "# Threshold for ambiguity\n",
    "threshold = 0.4\n",
    "ambiguous_indices = (tree_probs[:, 1] > threshold) & (tree_probs[:, 1] < 1 - threshold)\n",
    "\n",
    "# Train KNN\n",
    "knn = KNeighborsClassifier(n_neighbors=5)\n",
    "knn.fit(X_train, y_train)\n",
    "\n",
    "# Default predictions\n",
    "final_predictions = tree.predict(X_test)\n",
    "\n",
    "# Replace ambiguous\n",
    "if ambiguous_indices.any():\n",
    "    knn_preds = knn.predict(X_test[ambiguous_indices])\n",
    "    final_predictions[ambiguous_indices] = knn_preds\n",
    "\n",
    "# Evaluate\n",
    "accuracy = accuracy_score(y_test, final_predictions)\n",
    "print(f\"Hybrid Tree-KNN Accuracy: {accuracy:.2f}\")\n"
   ]
  },
  {
   "cell_type": "code",
   "execution_count": 7,
   "id": "ed6e440d-4ac4-4af6-9e8d-10fc84f07705",
   "metadata": {},
   "outputs": [
    {
     "name": "stdout",
     "output_type": "stream",
     "text": [
      "Hybrid RandomForest-KNN Accuracy: 0.86\n"
     ]
    }
   ],
   "source": [
    "from sklearn.ensemble import RandomForestClassifier\n",
    "from sklearn.neighbors import KNeighborsClassifier\n",
    "from sklearn.datasets import make_classification\n",
    "from sklearn.model_selection import train_test_split\n",
    "from sklearn.metrics import accuracy_score\n",
    "\n",
    "# Generate data\n",
    "X, y = make_classification(n_samples=1000, n_features=20, n_classes=2, random_state=42)\n",
    "X_train, X_test, y_train, y_test = train_test_split(X, y, test_size=0.3, random_state=42)\n",
    "\n",
    "# Train Random Forest\n",
    "rf = RandomForestClassifier(n_estimators=100, random_state=42)\n",
    "rf.fit(X_train, y_train)\n",
    "\n",
    "# Probabilities\n",
    "rf_probs = rf.predict_proba(X_test)\n",
    "\n",
    "# Ambiguity threshold\n",
    "threshold = 0.45\n",
    "ambiguous_indices = (rf_probs[:, 1] > threshold) & (rf_probs[:, 1] < 1 - threshold)\n",
    "\n",
    "# Train KNN\n",
    "knn = KNeighborsClassifier(n_neighbors=5)\n",
    "knn.fit(X_train, y_train)\n",
    "\n",
    "# Predict normally\n",
    "final_predictions = rf.predict(X_test)\n",
    "\n",
    "# Replace ambiguous\n",
    "if ambiguous_indices.any():\n",
    "    knn_preds = knn.predict(X_test[ambiguous_indices])\n",
    "    final_predictions[ambiguous_indices] = knn_preds\n",
    "\n",
    "# Evaluate\n",
    "accuracy = accuracy_score(y_test, final_predictions)\n",
    "print(f\"Hybrid RandomForest-KNN Accuracy: {accuracy:.2f}\")\n"
   ]
  },
  {
   "cell_type": "code",
   "execution_count": 9,
   "id": "fbd68f02-fee3-4c67-836a-7472fb30120a",
   "metadata": {},
   "outputs": [
    {
     "name": "stdout",
     "output_type": "stream",
     "text": [
      "Hybrid Model Accuracy: 0.86\n"
     ]
    }
   ],
   "source": [
    "import numpy as np\n",
    "import pandas as pd\n",
    "from sklearn.datasets import load_iris\n",
    "from sklearn.model_selection import train_test_split\n",
    "from sklearn.tree import DecisionTreeClassifier\n",
    "from sklearn.linear_model import LogisticRegression\n",
    "from sklearn.metrics import accuracy_score\n",
    "\n",
    "# Load dataset\n",
    "\n",
    "# Split into train and test sets\n",
    "X_train, X_test, y_train, y_test = train_test_split(X, y, test_size=0.2, random_state=42)\n",
    "\n",
    "# Step 1: Train a Decision Tree\n",
    "tree = DecisionTreeClassifier(max_depth=3, random_state=42)\n",
    "tree.fit(X_train, y_train)\n",
    "\n",
    "# Step 2: Generate new features using Decision Tree probabilities\n",
    "X_train_tree = tree.predict_proba(X_train)\n",
    "X_test_tree = tree.predict_proba(X_test)\n",
    "\n",
    "# Step 3: Train Logistic Regression on Decision Tree outputs\n",
    "logreg = LogisticRegression(random_state=42)\n",
    "logreg.fit(X_train_tree, y_train)\n",
    "\n",
    "# Step 4: Evaluate the hybrid model\n",
    "y_pred = logreg.predict(X_test_tree)\n",
    "accuracy = accuracy_score(y_test, y_pred)\n",
    "\n",
    "print(f\"Hybrid Model Accuracy: {accuracy:.2f}\")"
   ]
  },
  {
   "cell_type": "code",
   "execution_count": null,
   "id": "fefa9f9a-5434-456f-9a53-51861645496b",
   "metadata": {},
   "outputs": [],
   "source": []
  }
 ],
 "metadata": {
  "kernelspec": {
   "display_name": "Python 3 (ipykernel)",
   "language": "python",
   "name": "python3"
  },
  "language_info": {
   "codemirror_mode": {
    "name": "ipython",
    "version": 3
   },
   "file_extension": ".py",
   "mimetype": "text/x-python",
   "name": "python",
   "nbconvert_exporter": "python",
   "pygments_lexer": "ipython3",
   "version": "3.12.7"
  }
 },
 "nbformat": 4,
 "nbformat_minor": 5
}
